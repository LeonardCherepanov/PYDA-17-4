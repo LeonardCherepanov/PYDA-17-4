{
 "cells": [
  {
   "cell_type": "code",
   "execution_count": 120,
   "metadata": {},
   "outputs": [
    {
     "name": "stdout",
     "output_type": "stream",
     "text": [
      "car_id: Н067ВН40\n",
      "Результат: Номер Н067ВН валиден. Регион: 40\n"
     ]
    }
   ],
   "source": [
    "import re\n",
    "# \\d{3}\\b[А, В, Е, К, М, Н, О, Р, С, Т, У, Х]{2}\\d{2,3}\n",
    "def valid_number(car_id):\n",
    "    list_number = re.findall(r'[АВЕКМНОРСТУХ]{1}\\d{3}[АВЕКМНОРСТУХ]{2}\\d{2,3}', car_id)\n",
    "    if len(list_number) != 0:\n",
    "        print(f'Результат: Номер {list_number[0][0:6]} валиден. Регион: {list_number[0][6:]}')\n",
    "    else:\n",
    "        print(f'Результат: Номер не валиден')\n",
    "    \n",
    "car_id = input('car_id: ')\n",
    "valid_number(car_id)"
   ]
  },
  {
   "cell_type": "code",
   "execution_count": 102,
   "metadata": {},
   "outputs": [
    {
     "data": {
      "text/plain": [
       "'Напишите функцию функцию, которая будет будет будет будет удалять все все все все последовательные повторы слов из из из из заданной строки строки при помощи регулярных выражений'"
      ]
     },
     "execution_count": 102,
     "metadata": {},
     "output_type": "execute_result"
    }
   ],
   "source": [
    "some_string = 'Напишите функцию функцию, которая будет будет будет будет удалять все все все все последовательные повторы слов из из из из заданной строки строки при помощи регулярных выражений'\n",
    "re.sub(r'(\\w+)', r'\\1', some_string)\n"
   ]
  },
  {
   "cell_type": "code",
   "execution_count": 92,
   "metadata": {},
   "outputs": [
    {
     "name": "stdout",
     "output_type": "stream",
     "text": [
      "Результат: ИТ\n"
     ]
    }
   ],
   "source": [
    "some_words = 'Информационные технологии'\n",
    "list_some_words = re.findall(r'\\b\\w', some_words)\n",
    "upper_list_some_words = [x.upper() for x in list_some_words]\n",
    "jointed_upper_list_some_words = ''.join(upper_list_some_words)\n",
    "print(f'Результат: {jointed_upper_list_some_words}')"
   ]
  },
  {
   "cell_type": "code",
   "execution_count": 116,
   "metadata": {},
   "outputs": [
    {
     "name": "stdout",
     "output_type": "stream",
     "text": [
      "gmail.com: 2\n",
      "test.in: 1\n",
      "ya.ru: 2\n",
      "mail.ru: 1\n"
     ]
    }
   ],
   "source": [
    "emails = ['test@gmail.com', 'xyz@test.in', 'test@ya.ru', 'xyz@mail.ru', 'xyz@ya.ru', 'xyz@gmail.com']\n",
    "\n",
    "g = 0\n",
    "t = 0\n",
    "y = 0\n",
    "m = 0\n",
    "for i in emails:\n",
    "    if re.findall(r'gmail.com', i):\n",
    "        g += 1\n",
    "    elif re.findall(r'test.in', i):\n",
    "        t += 1\n",
    "    elif re.findall(r'ya.ru', i):\n",
    "        y += 1\n",
    "    elif re.findall(r'mail.ru', i):\n",
    "        m += 1\n",
    "print(f'gmail.com: {g}')\n",
    "print(f'test.in: {t}')\n",
    "print(f'ya.ru: {y}')\n",
    "print(f'mail.ru: {m}')"
   ]
  },
  {
   "cell_type": "code",
   "execution_count": null,
   "metadata": {},
   "outputs": [],
   "source": []
  }
 ],
 "metadata": {
  "kernelspec": {
   "display_name": "Python 3",
   "language": "python",
   "name": "python3"
  },
  "language_info": {
   "codemirror_mode": {
    "name": "ipython",
    "version": 3
   },
   "file_extension": ".py",
   "mimetype": "text/x-python",
   "name": "python",
   "nbconvert_exporter": "python",
   "pygments_lexer": "ipython3",
   "version": "3.8.5"
  }
 },
 "nbformat": 4,
 "nbformat_minor": 4
}
